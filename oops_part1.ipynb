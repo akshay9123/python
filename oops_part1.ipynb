{
 "cells": [
  {
   "cell_type": "code",
   "execution_count": 1,
   "id": "caf47c86-1338-4ac7-9d9f-b6317dd99ef4",
   "metadata": {},
   "outputs": [
    {
     "data": {
      "text/plain": [
       "'object oriented programming language'"
      ]
     },
     "execution_count": 1,
     "metadata": {},
     "output_type": "execute_result"
    }
   ],
   "source": [
    "'''object oriented programming language'''"
   ]
  },
  {
   "cell_type": "code",
   "execution_count": 2,
   "id": "d047ac03-f106-4311-9e72-f6455b2d4aef",
   "metadata": {},
   "outputs": [],
   "source": [
    "l=1"
   ]
  },
  {
   "cell_type": "code",
   "execution_count": 3,
   "id": "efc3a665-9fc9-46c0-84ec-a61694b2e5b7",
   "metadata": {},
   "outputs": [
    {
     "data": {
      "text/plain": [
       "int"
      ]
     },
     "execution_count": 3,
     "metadata": {},
     "output_type": "execute_result"
    }
   ],
   "source": [
    "type(l)"
   ]
  },
  {
   "cell_type": "code",
   "execution_count": 4,
   "id": "ba9ebec4-5d1c-4816-959c-55e20aa06efd",
   "metadata": {},
   "outputs": [],
   "source": [
    "a='akshay'"
   ]
  },
  {
   "cell_type": "code",
   "execution_count": 5,
   "id": "ae702b2f-e92a-4d2a-9c7a-0494566a8b41",
   "metadata": {},
   "outputs": [
    {
     "data": {
      "text/plain": [
       "str"
      ]
     },
     "execution_count": 5,
     "metadata": {},
     "output_type": "execute_result"
    }
   ],
   "source": [
    "type(a)"
   ]
  },
  {
   "cell_type": "code",
   "execution_count": 6,
   "id": "0aa8ee24-6502-4af8-a702-64a50580f0af",
   "metadata": {},
   "outputs": [
    {
     "data": {
      "text/plain": [
       "str"
      ]
     },
     "execution_count": 6,
     "metadata": {},
     "output_type": "execute_result"
    }
   ],
   "source": [
    "type('akshay')"
   ]
  },
  {
   "cell_type": "code",
   "execution_count": 7,
   "id": "6171e4c6-57cf-4ac0-92b5-f556d41ecd8c",
   "metadata": {},
   "outputs": [
    {
     "name": "stdout",
     "output_type": "stream",
     "text": [
      "<class 'str'>\n"
     ]
    }
   ],
   "source": [
    "print(type('pwskill'))"
   ]
  },
  {
   "cell_type": "code",
   "execution_count": 8,
   "id": "004dd63d-3214-4041-83d9-b28e9a1c1554",
   "metadata": {},
   "outputs": [],
   "source": [
    "l=[1,2,3,4,5]"
   ]
  },
  {
   "cell_type": "code",
   "execution_count": 9,
   "id": "ef9fb9f3-b6e6-4dec-b4ec-cd1ff4f2eedc",
   "metadata": {},
   "outputs": [
    {
     "data": {
      "text/plain": [
       "list"
      ]
     },
     "execution_count": 9,
     "metadata": {},
     "output_type": "execute_result"
    }
   ],
   "source": [
    "type(l)"
   ]
  },
  {
   "cell_type": "code",
   "execution_count": 10,
   "id": "da157245-3886-4d4e-a695-9ebe9ae811ea",
   "metadata": {},
   "outputs": [
    {
     "data": {
      "text/plain": [
       "'class is a blueprint or skaleton that defines the overall things in the case of object oriented  programming language'"
      ]
     },
     "execution_count": 10,
     "metadata": {},
     "output_type": "execute_result"
    }
   ],
   "source": [
    "'''class is a blueprint or skaleton that defines the overall things in the case of object oriented  programming language'''"
   ]
  },
  {
   "cell_type": "code",
   "execution_count": 1,
   "id": "e4aec6c4-e80f-4644-9bef-1a07ff568acb",
   "metadata": {},
   "outputs": [
    {
     "data": {
      "text/plain": [
       "\" class is alwayes defined by the word 'class' class name : \""
      ]
     },
     "execution_count": 1,
     "metadata": {},
     "output_type": "execute_result"
    }
   ],
   "source": [
    "''' class is alwayes defined by the word 'class' class name : '''"
   ]
  },
  {
   "cell_type": "code",
   "execution_count": 5,
   "id": "d2962c26-02da-4d1a-a01d-f276ebc9aaf7",
   "metadata": {},
   "outputs": [],
   "source": [
    "class test :\n",
    "    pass"
   ]
  },
  {
   "cell_type": "code",
   "execution_count": 6,
   "id": "71696f86-723f-473c-800c-3f0f2d447550",
   "metadata": {},
   "outputs": [],
   "source": [
    "# to create the object of class \n",
    "var = test()"
   ]
  },
  {
   "cell_type": "code",
   "execution_count": 8,
   "id": "d71a9da8-d2c1-4357-92de-1ab212fcc85e",
   "metadata": {},
   "outputs": [
    {
     "name": "stdout",
     "output_type": "stream",
     "text": [
      "<class '__main__.test'>\n"
     ]
    }
   ],
   "source": [
    "print(type(var))"
   ]
  },
  {
   "cell_type": "code",
   "execution_count": 13,
   "id": "29220aad-d22f-4962-97ed-0dbc684ce9a1",
   "metadata": {},
   "outputs": [],
   "source": [
    "# The self is used to represent the instance of the class. With this keyword, you can access the attributes and methods of the class in python.\n",
    "class test:\n",
    "    def welcom(self):\n",
    "        print(\"welcome to akshay world\")"
   ]
  },
  {
   "cell_type": "code",
   "execution_count": 15,
   "id": "b8aa818b-9a33-4b26-868b-1a21629f6d70",
   "metadata": {},
   "outputs": [],
   "source": [
    "rohan=test()"
   ]
  },
  {
   "cell_type": "code",
   "execution_count": 16,
   "id": "c73834b3-1714-4c3e-a56f-bec7f0ee3795",
   "metadata": {},
   "outputs": [
    {
     "name": "stdout",
     "output_type": "stream",
     "text": [
      "welcome to akshay world\n"
     ]
    }
   ],
   "source": [
    "rohan.welcom()"
   ]
  },
  {
   "cell_type": "code",
   "execution_count": 2,
   "id": "b9a21166-6a60-42e6-a1a8-3a4b5c053f74",
   "metadata": {},
   "outputs": [],
   "source": [
    "class first:\n",
    "    def wel(self):\n",
    "        print(\"welcome to oosp\")"
   ]
  },
  {
   "cell_type": "code",
   "execution_count": 4,
   "id": "b419923c-fefc-49b9-a9d3-b9c0da14a508",
   "metadata": {},
   "outputs": [
    {
     "name": "stdout",
     "output_type": "stream",
     "text": [
      "welcome to oosp\n"
     ]
    }
   ],
   "source": [
    "# object is created\n",
    "akshay=first()\n",
    "akshay.wel()"
   ]
  },
  {
   "cell_type": "code",
   "execution_count": 6,
   "id": "ff42a4ee-42cf-440a-b4e2-4aebc50be3f4",
   "metadata": {},
   "outputs": [
    {
     "name": "stdout",
     "output_type": "stream",
     "text": [
      "welcome to oosp\n"
     ]
    }
   ],
   "source": [
    "gaurav=first()\n",
    "gaurav.wel()"
   ]
  },
  {
   "cell_type": "code",
   "execution_count": 38,
   "id": "423e7cb6-a80e-49e8-b8d2-2f50b658ab3f",
   "metadata": {},
   "outputs": [],
   "source": [
    "class info:\n",
    "    def __init__(self,phone,email,stu_id):\n",
    "        self.phone1=phone\n",
    "        self.email=email\n",
    "        self.stu_id=stu_id\n",
    "        \n",
    "    def return_student_detail(self):\n",
    "        return self.stu_id, self.phone, self.email"
   ]
  },
  {
   "cell_type": "code",
   "execution_count": 24,
   "id": "fa32453b-0f34-4c7f-bb0a-e56112d1ff1e",
   "metadata": {},
   "outputs": [],
   "source": [
    "stu=info(9123283074,\"skshy\",721)"
   ]
  },
  {
   "cell_type": "code",
   "execution_count": 25,
   "id": "52ce927d-50f8-419d-a3db-3f94ce1f83c0",
   "metadata": {},
   "outputs": [
    {
     "data": {
      "text/plain": [
       "(721, 9123283074, 'skshy')"
      ]
     },
     "execution_count": 25,
     "metadata": {},
     "output_type": "execute_result"
    }
   ],
   "source": [
    "stu.return_student_detail()"
   ]
  },
  {
   "cell_type": "code",
   "execution_count": 26,
   "id": "6f5253e4-a798-4cc6-86ee-65c8a148ba95",
   "metadata": {},
   "outputs": [],
   "source": [
    "gaurab=info(8874,\"gaurav\",722)"
   ]
  },
  {
   "cell_type": "code",
   "execution_count": 30,
   "id": "6b15c107-1e3a-4209-b0cd-9861e2a51c0a",
   "metadata": {},
   "outputs": [
    {
     "data": {
      "text/plain": [
       "(722, 8874, 'gaurav')"
      ]
     },
     "execution_count": 30,
     "metadata": {},
     "output_type": "execute_result"
    }
   ],
   "source": [
    "gaurab.return_student_detail()"
   ]
  },
  {
   "cell_type": "code",
   "execution_count": 33,
   "id": "b03692dd-acf1-4fec-b7ef-8be06e261075",
   "metadata": {},
   "outputs": [
    {
     "data": {
      "text/plain": [
       "'skshy'"
      ]
     },
     "execution_count": 33,
     "metadata": {},
     "output_type": "execute_result"
    }
   ],
   "source": [
    "# to access the specific details \n",
    "\n",
    "stu.email"
   ]
  },
  {
   "cell_type": "code",
   "execution_count": 34,
   "id": "35aebe24-2a73-4be2-b27a-8cf29c70c26b",
   "metadata": {},
   "outputs": [
    {
     "data": {
      "text/plain": [
       "'gaurav'"
      ]
     },
     "execution_count": 34,
     "metadata": {},
     "output_type": "execute_result"
    }
   ],
   "source": [
    "gaurab.email"
   ]
  },
  {
   "cell_type": "code",
   "execution_count": 40,
   "id": "fec8fe04-1d75-4a21-a5e4-e1d02ffc5db7",
   "metadata": {},
   "outputs": [
    {
     "data": {
      "text/plain": [
       "8874"
      ]
     },
     "execution_count": 40,
     "metadata": {},
     "output_type": "execute_result"
    }
   ],
   "source": [
    "gaurab.phone"
   ]
  },
  {
   "cell_type": "code",
   "execution_count": 41,
   "id": "0b986cd5-2cd0-4172-af24-4b93b87def30",
   "metadata": {},
   "outputs": [
    {
     "data": {
      "text/plain": [
       "9123283074"
      ]
     },
     "execution_count": 41,
     "metadata": {},
     "output_type": "execute_result"
    }
   ],
   "source": [
    "stu.phone"
   ]
  },
  {
   "cell_type": "code",
   "execution_count": 43,
   "id": "f6082835-7412-402b-9ec3-02853389f5ec",
   "metadata": {},
   "outputs": [
    {
     "data": {
      "text/plain": [
       "(721, 9123283074, 'skshy')"
      ]
     },
     "execution_count": 43,
     "metadata": {},
     "output_type": "execute_result"
    }
   ],
   "source": [
    "stu.return_student_detail()"
   ]
  },
  {
   "cell_type": "code",
   "execution_count": 49,
   "id": "8b09fb03-eee7-423b-86c9-90b1666b7457",
   "metadata": {},
   "outputs": [],
   "source": [
    "# we can use the other word on the place of self also like here i have used the word 'akshay'\n",
    "class neew:\n",
    "    def __init__(akshay,phone_no,email,student_id):\n",
    "        akshay.phone_no=phone_no\n",
    "        akshay.email=email\n",
    "        akshay.student_id=student_id\n",
    "        \n",
    "    def return_detail(akshay):\n",
    "        return akshay.phone_no, akshay.email, akshay.student_id"
   ]
  },
  {
   "cell_type": "code",
   "execution_count": 50,
   "id": "7a2059e8-9690-4588-bd2c-2fe000441084",
   "metadata": {},
   "outputs": [],
   "source": [
    "new=neew(9123283074,\"akshayraj9123@gmail.com\",2129721)"
   ]
  },
  {
   "cell_type": "code",
   "execution_count": 53,
   "id": "66d679b7-3fec-4ad1-bc9b-87db32d79b24",
   "metadata": {},
   "outputs": [
    {
     "data": {
      "text/plain": [
       "(9123283074, 'akshayraj9123@gmail.com', 2129721)"
      ]
     },
     "execution_count": 53,
     "metadata": {},
     "output_type": "execute_result"
    }
   ],
   "source": [
    "new.return_detail()"
   ]
  },
  {
   "cell_type": "code",
   "execution_count": 55,
   "id": "9dba5bf3-cf66-4a6b-b873-31ae084c8122",
   "metadata": {},
   "outputs": [
    {
     "data": {
      "text/plain": [
       "9123283074"
      ]
     },
     "execution_count": 55,
     "metadata": {},
     "output_type": "execute_result"
    }
   ],
   "source": [
    "new.phone_no"
   ]
  },
  {
   "cell_type": "code",
   "execution_count": null,
   "id": "74778ffd-b57a-4aec-a339-ba452e9c7dec",
   "metadata": {},
   "outputs": [],
   "source": []
  }
 ],
 "metadata": {
  "kernelspec": {
   "display_name": "Python 3 (ipykernel)",
   "language": "python",
   "name": "python3"
  },
  "language_info": {
   "codemirror_mode": {
    "name": "ipython",
    "version": 3
   },
   "file_extension": ".py",
   "mimetype": "text/x-python",
   "name": "python",
   "nbconvert_exporter": "python",
   "pygments_lexer": "ipython3",
   "version": "3.10.8"
  }
 },
 "nbformat": 4,
 "nbformat_minor": 5
}

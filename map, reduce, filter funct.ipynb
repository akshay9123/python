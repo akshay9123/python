{
 "cells": [
  {
   "cell_type": "code",
   "execution_count": 1,
   "id": "be734aac-daf8-46c1-a571-2c268ee36a6d",
   "metadata": {},
   "outputs": [],
   "source": [
    "# map is used to mapping\n",
    "# reduce is used to reduce\n",
    "# filter is uded to filter"
   ]
  },
  {
   "cell_type": "code",
   "execution_count": 2,
   "id": "090a7b75-d132-4f88-a08f-cc372c37d2ed",
   "metadata": {},
   "outputs": [],
   "source": [
    "l =[1,2,3,4,5,6]"
   ]
  },
  {
   "cell_type": "code",
   "execution_count": 5,
   "id": "fda8b490-1038-473c-beeb-8ca5abe777ec",
   "metadata": {},
   "outputs": [],
   "source": [
    "def test():\n",
    "    l1=[]\n",
    "    for i in l:\n",
    "        l1.append(i**2)\n",
    "    print(l1)\n",
    "        "
   ]
  },
  {
   "cell_type": "code",
   "execution_count": 6,
   "id": "b5fb7f14-aee6-41d6-8cae-22c5d214f9f9",
   "metadata": {},
   "outputs": [
    {
     "name": "stdout",
     "output_type": "stream",
     "text": [
      "[1, 4, 9, 16, 25, 36]\n"
     ]
    }
   ],
   "source": [
    "test()"
   ]
  },
  {
   "cell_type": "code",
   "execution_count": 7,
   "id": "8826f1c7-a1d2-4ba7-b74a-5576bf6a6d61",
   "metadata": {},
   "outputs": [
    {
     "data": {
      "text/plain": [
       "[7, 9, 11, 13, 15]"
      ]
     },
     "execution_count": 7,
     "metadata": {},
     "output_type": "execute_result"
    }
   ],
   "source": [
    "#  to add the index element of two element\n",
    "\n",
    "\n",
    "l1=[1,2,3,4,5]\n",
    "l2=[6,7,8,9,10]\n",
    "l3=[]\n",
    "    \n",
    "for i in range (0,len(l1)) :\n",
    "    l3.append(l1[i]+l2[i])\n",
    "l3"
   ]
  },
  {
   "cell_type": "code",
   "execution_count": 10,
   "id": "56fc0348-2401-4b66-9f88-291d158b5350",
   "metadata": {},
   "outputs": [
    {
     "data": {
      "text/plain": [
       "[7, 9, 11, 13, 15]"
      ]
     },
     "execution_count": 10,
     "metadata": {},
     "output_type": "execute_result"
    }
   ],
   "source": [
    "# same thing is done by map concepy\n",
    "\n",
    "l4=[1,2,3,4,5]\n",
    "l5=[6,7,8,9,10]\n",
    "list(map(lambda x,y:x+y,l1,l2))"
   ]
  },
  {
   "cell_type": "code",
   "execution_count": 10,
   "id": "3925b626-33bb-4be1-99b3-afe8d46b3952",
   "metadata": {},
   "outputs": [
    {
     "name": "stdout",
     "output_type": "stream",
     "text": [
      "a\n",
      "k\n",
      "s\n",
      "h\n",
      "a\n",
      "y\n"
     ]
    }
   ],
   "source": [
    "s=\"akshay\"\n",
    "for i in s:\n",
    "    l=[]\n",
    "    i.capitalize()\n",
    "    \n",
    "    print(i)"
   ]
  },
  {
   "cell_type": "code",
   "execution_count": 7,
   "id": "275c6541-68cc-4dc5-9ff5-d8630b655cf7",
   "metadata": {},
   "outputs": [
    {
     "name": "stdout",
     "output_type": "stream",
     "text": [
      "['a', 'k', 's', 'h', 'a', 'y']\n"
     ]
    }
   ],
   "source": [
    "s=\"akshay\"\n",
    "lis=[]\n",
    "for i in s:\n",
    "    list(i)\n",
    "    lis.append(i)\n",
    "print(lis)\n",
    "    "
   ]
  },
  {
   "cell_type": "code",
   "execution_count": 15,
   "id": "86de20a5-cb3f-4051-af29-fb2e82d2c113",
   "metadata": {},
   "outputs": [
    {
     "data": {
      "text/plain": [
       "['A', 'K', 'S', 'H', 'A', 'Y']"
      ]
     },
     "execution_count": 15,
     "metadata": {},
     "output_type": "execute_result"
    }
   ],
   "source": [
    "# this can also be done via map function\n",
    "\n",
    "k=\"akshay\"\n",
    "list(map(lambda k : k.upper(),k))"
   ]
  },
  {
   "cell_type": "code",
   "execution_count": 17,
   "id": "a2377b5b-452f-47f0-b591-bce86e044d86",
   "metadata": {},
   "outputs": [
    {
     "name": "stdout",
     "output_type": "stream",
     "text": [
      "15\n"
     ]
    }
   ],
   "source": [
    "count=0\n",
    "l=[1,2,3,4,5]\n",
    "for i in l:\n",
    "    count=count+i\n",
    "print(count)"
   ]
  },
  {
   "cell_type": "code",
   "execution_count": 23,
   "id": "25d97bf8-5899-4080-b016-2742ca507c8d",
   "metadata": {},
   "outputs": [
    {
     "data": {
      "text/plain": [
       "4"
      ]
     },
     "execution_count": 23,
     "metadata": {},
     "output_type": "execute_result"
    }
   ],
   "source": [
    "# to find the largest number of the list\n",
    "l=[1,2,3,4,3]\n",
    "l.sort()\n",
    "l[-1]"
   ]
  },
  {
   "cell_type": "code",
   "execution_count": null,
   "id": "1e33184b-4719-475e-aad4-bc88c6e0f0c4",
   "metadata": {},
   "outputs": [],
   "source": [
    "# another method \n",
    "lis=[]\n",
    "num=int(input(\"enter the no of elemnt\"))\n",
    "for i in range (0,num):\n",
    "    ele=int(input('enter the elemnt'))\n",
    "    lis.append(ele)\n",
    "    print(\"largest number is \", lis.sort())\n",
    "    lis[-1]"
   ]
  },
  {
   "cell_type": "code",
   "execution_count": null,
   "id": "52b29763-14fd-4009-bc3d-340238b0eb24",
   "metadata": {},
   "outputs": [],
   "source": [
    "# filter function \n",
    "# to find the even number from the list\n",
    "l1=[1,2,3,4,5,6,]\n",
    "list(filter(lambda x : x%2==0 ,l1))"
   ]
  },
  {
   "cell_type": "code",
   "execution_count": null,
   "id": "39945699-2df0-4863-ac16-2eedc53c98ea",
   "metadata": {},
   "outputs": [],
   "source": []
  },
  {
   "cell_type": "code",
   "execution_count": null,
   "id": "326fa322-dd5f-4a47-a37b-7f1473a00f04",
   "metadata": {},
   "outputs": [],
   "source": []
  }
 ],
 "metadata": {
  "kernelspec": {
   "display_name": "Python 3 (ipykernel)",
   "language": "python",
   "name": "python3"
  },
  "language_info": {
   "codemirror_mode": {
    "name": "ipython",
    "version": 3
   },
   "file_extension": ".py",
   "mimetype": "text/x-python",
   "name": "python",
   "nbconvert_exporter": "python",
   "pygments_lexer": "ipython3",
   "version": "3.10.8"
  }
 },
 "nbformat": 4,
 "nbformat_minor": 5
}

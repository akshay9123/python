{
 "cells": [
  {
   "cell_type": "code",
   "execution_count": 1,
   "id": "815a7531-580f-4bfd-8ca3-cb16eda78ab1",
   "metadata": {},
   "outputs": [],
   "source": [
    "# encapsulation means wrapping the data into in single unit"
   ]
  },
  {
   "cell_type": "code",
   "execution_count": 2,
   "id": "51ccbb1c-ce2c-4c30-af81-5254bc0e5c56",
   "metadata": {},
   "outputs": [],
   "source": [
    "# let suppose we are creating the class\n",
    "class test:\n",
    "    def show(self,a,b):\n",
    "        self.a=a\n",
    "        self.b=b"
   ]
  },
  {
   "cell_type": "code",
   "execution_count": 6,
   "id": "1a643cea-0d0b-42c3-8c79-23695a797c3f",
   "metadata": {},
   "outputs": [],
   "source": [
    "c=test()\n",
    "c.show(3,4)"
   ]
  },
  {
   "cell_type": "code",
   "execution_count": 8,
   "id": "bb485e63-d0d9-4e3f-bea7-6d274bec8498",
   "metadata": {},
   "outputs": [],
   "source": [
    "c.a=12"
   ]
  },
  {
   "cell_type": "code",
   "execution_count": 9,
   "id": "06380139-d672-4f8d-b21a-c9b375fe990a",
   "metadata": {},
   "outputs": [
    {
     "data": {
      "text/plain": [
       "12"
      ]
     },
     "execution_count": 9,
     "metadata": {},
     "output_type": "execute_result"
    }
   ],
   "source": [
    "c.a"
   ]
  },
  {
   "cell_type": "code",
   "execution_count": 10,
   "id": "a9c88871-790d-4913-9328-4e37eef37c9b",
   "metadata": {},
   "outputs": [],
   "source": [
    "# lets we are crating the class and we will not give the access to the user to change and show the data of that class"
   ]
  },
  {
   "cell_type": "code",
   "execution_count": 11,
   "id": "bb7218e9-3172-43f5-9687-93de7fba94af",
   "metadata": {},
   "outputs": [],
   "source": [
    "# __and the passed the data makes the data private and can not executed directly\n",
    "class car:\n",
    "    def __init__(akshay , year, model, mileage, color):\n",
    "        akshay.__year=year\n",
    "        akshay.__model=model\n",
    "        akshay.__mileage=mileage\n",
    "        akshay.__color=color"
   ]
  },
  {
   "cell_type": "code",
   "execution_count": 12,
   "id": "cc7813ce-4a44-42ea-8960-70bedf565dba",
   "metadata": {},
   "outputs": [],
   "source": [
    "c=car(2021,\"bmw\", 23,\"white\")"
   ]
  },
  {
   "cell_type": "code",
   "execution_count": 13,
   "id": "667b7bdb-92b6-4ea9-aaa5-29915d31b7c6",
   "metadata": {},
   "outputs": [
    {
     "data": {
      "text/plain": [
       "2021"
      ]
     },
     "execution_count": 13,
     "metadata": {},
     "output_type": "execute_result"
    }
   ],
   "source": [
    "# to execute this, object._classname__data\n",
    "\n",
    "\n",
    "\n",
    "c._car__year"
   ]
  },
  {
   "cell_type": "code",
   "execution_count": 10,
   "id": "4fc38c37-13c3-4110-85e7-68c6a39aa28b",
   "metadata": {},
   "outputs": [],
   "source": [
    "class bank_account:\n",
    "    def __init__(self,balance):\n",
    "        self.__balance=balance\n",
    "        \n",
    "    def depsoite(self,amount):\n",
    "        self.__balance=self.__balance+amount\n",
    "        \n",
    "    def withdraw(self,amount):\n",
    "        if self.__balance>=amount:\n",
    "            self.__balance=self.__balance-amount\n",
    "            \n",
    "            \n",
    "        else :\n",
    "            print(\"insufficient balance\")\n",
    "            \n",
    "    def check_balance(self):\n",
    "        print(self.__balance)\n",
    "        \n",
    "c=bank_account(1000)        "
   ]
  },
  {
   "cell_type": "code",
   "execution_count": 6,
   "id": "a88e68bd-8663-410e-9448-83affdbc309c",
   "metadata": {},
   "outputs": [
    {
     "name": "stdout",
     "output_type": "stream",
     "text": [
      "1000\n"
     ]
    }
   ],
   "source": [
    "c.check_balance()"
   ]
  },
  {
   "cell_type": "code",
   "execution_count": 11,
   "id": "e4e72d54-2346-43ee-af77-d5b7b6483237",
   "metadata": {},
   "outputs": [],
   "source": [
    "c.depsoite(5000)"
   ]
  },
  {
   "cell_type": "code",
   "execution_count": 12,
   "id": "b1a9de76-7d74-443b-9aab-da8e8e08e248",
   "metadata": {},
   "outputs": [
    {
     "name": "stdout",
     "output_type": "stream",
     "text": [
      "6000\n"
     ]
    }
   ],
   "source": [
    "c.check_balance()"
   ]
  },
  {
   "cell_type": "code",
   "execution_count": 13,
   "id": "f850c9fe-ce71-4595-84d7-da0efcd26893",
   "metadata": {},
   "outputs": [],
   "source": [
    "c.withdraw(2000)"
   ]
  },
  {
   "cell_type": "code",
   "execution_count": 14,
   "id": "eacd4708-aba1-452e-9c42-d3d0c499fbcc",
   "metadata": {},
   "outputs": [
    {
     "name": "stdout",
     "output_type": "stream",
     "text": [
      "4000\n"
     ]
    }
   ],
   "source": [
    "c.check_balance()"
   ]
  },
  {
   "cell_type": "code",
   "execution_count": 15,
   "id": "57e8081a-d4f8-4bf0-b6d1-6857f2b88f1e",
   "metadata": {},
   "outputs": [
    {
     "name": "stdout",
     "output_type": "stream",
     "text": [
      "insufficient balance\n"
     ]
    }
   ],
   "source": [
    "c.withdraw(10000)"
   ]
  },
  {
   "cell_type": "code",
   "execution_count": 16,
   "id": "d5cb22d9-4782-4d6c-b102-44794732f628",
   "metadata": {},
   "outputs": [],
   "source": [
    "c.depsoite(20000)"
   ]
  },
  {
   "cell_type": "code",
   "execution_count": 17,
   "id": "21d3c7be-59f8-43f1-a51a-707d57f05e61",
   "metadata": {},
   "outputs": [
    {
     "name": "stdout",
     "output_type": "stream",
     "text": [
      "24000\n"
     ]
    }
   ],
   "source": [
    "c.check_balance()"
   ]
  },
  {
   "cell_type": "code",
   "execution_count": 18,
   "id": "6e5d6a0b-c955-4efd-8ee5-f2f064213d0b",
   "metadata": {},
   "outputs": [],
   "source": [
    "c.withdraw(15000)"
   ]
  },
  {
   "cell_type": "code",
   "execution_count": 19,
   "id": "0ca5daec-1eba-46f9-b028-a7731db7f0d4",
   "metadata": {},
   "outputs": [
    {
     "name": "stdout",
     "output_type": "stream",
     "text": [
      "9000\n"
     ]
    }
   ],
   "source": [
    "c.check_balance()"
   ]
  },
  {
   "cell_type": "code",
   "execution_count": 20,
   "id": "09dd5624-ef60-47a7-b487-eae0d844750f",
   "metadata": {},
   "outputs": [
    {
     "name": "stdout",
     "output_type": "stream",
     "text": [
      "insufficient balance\n"
     ]
    }
   ],
   "source": [
    "c.withdraw(14000)"
   ]
  },
  {
   "cell_type": "code",
   "execution_count": null,
   "id": "2e9f6f39-fe22-4bd6-ab44-aa9552543abe",
   "metadata": {},
   "outputs": [],
   "source": []
  }
 ],
 "metadata": {
  "kernelspec": {
   "display_name": "Python 3 (ipykernel)",
   "language": "python",
   "name": "python3"
  },
  "language_info": {
   "codemirror_mode": {
    "name": "ipython",
    "version": 3
   },
   "file_extension": ".py",
   "mimetype": "text/x-python",
   "name": "python",
   "nbconvert_exporter": "python",
   "pygments_lexer": "ipython3",
   "version": "3.10.8"
  }
 },
 "nbformat": 4,
 "nbformat_minor": 5
}

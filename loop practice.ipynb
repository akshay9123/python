{
 "cells": [
  {
   "cell_type": "code",
   "execution_count": 1,
   "id": "9cf38ef6-f08c-49fb-bb49-f4b7fd47e9b3",
   "metadata": {},
   "outputs": [],
   "source": [
    "l=[\"akshay\", \"jha\", \"amit\", \"rahul\", \"sumit\"]\n"
   ]
  },
  {
   "cell_type": "code",
   "execution_count": 2,
   "id": "ac71c7c4-85e6-41dd-88f4-ef9bc637c160",
   "metadata": {},
   "outputs": [
    {
     "data": {
      "text/plain": [
       "['akshay', 'jha', 'amit', 'rahul', 'sumit']"
      ]
     },
     "execution_count": 2,
     "metadata": {},
     "output_type": "execute_result"
    }
   ],
   "source": [
    "l"
   ]
  },
  {
   "cell_type": "code",
   "execution_count": 5,
   "id": "8f2efab0-9afe-4a12-ad37-c25c05eb89dc",
   "metadata": {},
   "outputs": [
    {
     "name": "stdout",
     "output_type": "stream",
     "text": [
      "akshay\n",
      "jha\n",
      "rahul\n",
      "sumit\n",
      "thanks for using our name\n"
     ]
    }
   ],
   "source": [
    "for i in l :\n",
    "    if i == \"amit\":\n",
    "        continue\n",
    "    print (i)\n",
    "else :\n",
    "    print (\"thanks for using our name\")"
   ]
  },
  {
   "cell_type": "code",
   "execution_count": 6,
   "id": "b107ce00-f3bf-4f30-b630-bd1c9d24233e",
   "metadata": {},
   "outputs": [
    {
     "data": {
      "text/plain": [
       "range(0, 5)"
      ]
     },
     "execution_count": 6,
     "metadata": {},
     "output_type": "execute_result"
    }
   ],
   "source": [
    "range(5) #range is used to generate the data and here data is generated to show this generated data we have to call the range function with the help of list"
   ]
  },
  {
   "cell_type": "code",
   "execution_count": 8,
   "id": "b230af91-b407-43c7-934c-ecd4f5f92119",
   "metadata": {},
   "outputs": [
    {
     "data": {
      "text/plain": [
       "[0, 1, 2, 3, 4]"
      ]
     },
     "execution_count": 8,
     "metadata": {},
     "output_type": "execute_result"
    }
   ],
   "source": [
    "list(range(5)) # range is a generator function data from o to 5 is generated, excluded 5"
   ]
  },
  {
   "cell_type": "code",
   "execution_count": 10,
   "id": "e458c15f-9708-41a3-a38e-f6b57ca3aeb4",
   "metadata": {},
   "outputs": [
    {
     "data": {
      "text/plain": [
       "[0, 2, 4]"
      ]
     },
     "execution_count": 10,
     "metadata": {},
     "output_type": "execute_result"
    }
   ],
   "source": [
    "list (range(0,5,2)) # we first index is starting and the middle position is ending data, and the last position the skip or jump value is stored"
   ]
  },
  {
   "cell_type": "code",
   "execution_count": 11,
   "id": "8183d5d5-d0e6-4034-b567-7105999b505e",
   "metadata": {},
   "outputs": [
    {
     "data": {
      "text/plain": [
       "range(0, 20, 2)"
      ]
     },
     "execution_count": 11,
     "metadata": {},
     "output_type": "execute_result"
    }
   ],
   "source": [
    "range(0,20,2)"
   ]
  },
  {
   "cell_type": "code",
   "execution_count": 12,
   "id": "020a1c82-e578-4e3a-921f-e82ab858d244",
   "metadata": {},
   "outputs": [
    {
     "data": {
      "text/plain": [
       "[0, 2, 4, 6, 8, 10, 12, 14, 16, 18]"
      ]
     },
     "execution_count": 12,
     "metadata": {},
     "output_type": "execute_result"
    }
   ],
   "source": [
    "list(range(0,20,2))"
   ]
  },
  {
   "cell_type": "code",
   "execution_count": 13,
   "id": "efc0ef3a-7bc1-4898-9944-a19a1aa00430",
   "metadata": {},
   "outputs": [
    {
     "data": {
      "text/plain": [
       "[-10, -8, -6, -4, -2, 0, 2, 4, 6, 8]"
      ]
     },
     "execution_count": 13,
     "metadata": {},
     "output_type": "execute_result"
    }
   ],
   "source": [
    "# we can produce negative data also in range\n",
    "list (range(-10,10,2))"
   ]
  },
  {
   "cell_type": "code",
   "execution_count": 1,
   "id": "bc2bf688-9b0f-42be-8377-de8ad9aa529f",
   "metadata": {},
   "outputs": [],
   "source": [
    "l2 = [12,33,34,45,55,65,78,89,90,102,203,304]"
   ]
  },
  {
   "cell_type": "code",
   "execution_count": 2,
   "id": "e7069cee-db38-48fe-8259-5e8baec80562",
   "metadata": {},
   "outputs": [
    {
     "data": {
      "text/plain": [
       "[12, 33, 34, 45, 55, 65, 78, 89, 90, 102, 203, 304]"
      ]
     },
     "execution_count": 2,
     "metadata": {},
     "output_type": "execute_result"
    }
   ],
   "source": [
    "l2"
   ]
  },
  {
   "cell_type": "code",
   "execution_count": 3,
   "id": "72709539-2e82-49d1-8f7f-738eb8ee03ba",
   "metadata": {},
   "outputs": [
    {
     "data": {
      "text/plain": [
       "[0, 2, 4, 6, 8, 10]"
      ]
     },
     "execution_count": 3,
     "metadata": {},
     "output_type": "execute_result"
    }
   ],
   "source": [
    "list (range(0, len(l2), 2))"
   ]
  },
  {
   "cell_type": "code",
   "execution_count": 5,
   "id": "eb621f38-c1b4-479e-9074-0b9fc62f6f48",
   "metadata": {},
   "outputs": [
    {
     "name": "stdout",
     "output_type": "stream",
     "text": [
      "12\n",
      "34\n",
      "55\n",
      "78\n",
      "90\n",
      "203\n"
     ]
    }
   ],
   "source": [
    "for i in range (0, len(l2), 2):\n",
    "    print (l2[i])"
   ]
  },
  {
   "cell_type": "code",
   "execution_count": 16,
   "id": "8a37b78d-cf2d-4162-8aba-232482b43b0e",
   "metadata": {},
   "outputs": [
    {
     "data": {
      "text/plain": [
       "123"
      ]
     },
     "execution_count": 16,
     "metadata": {},
     "output_type": "execute_result"
    }
   ],
   "source": [
    "# to add the element of list \n",
    "l =[1,2,3,4,7,8,98]\n",
    "# we can here also use sum function\n",
    "sum(l)"
   ]
  },
  {
   "cell_type": "code",
   "execution_count": 19,
   "id": "7ad273df-de7a-4294-9e29-1a67400926a1",
   "metadata": {},
   "outputs": [
    {
     "data": {
      "text/plain": [
       "123"
      ]
     },
     "execution_count": 19,
     "metadata": {},
     "output_type": "execute_result"
    }
   ],
   "source": [
    "# we can add  the same element by the help of loop \n",
    "result = 0\n",
    "for i in l :\n",
    "    result = result + i \n",
    "result"
   ]
  },
  {
   "cell_type": "code",
   "execution_count": 20,
   "id": "d5b029ad-a9a5-4ee7-b3ec-ece8208fb580",
   "metadata": {},
   "outputs": [],
   "source": [
    "# we can do same thing by the tuple\n",
    "t=(1,2,3,4,7,8,98)"
   ]
  },
  {
   "cell_type": "code",
   "execution_count": 21,
   "id": "115f68b5-826b-40d7-9a50-f52eca5ee11f",
   "metadata": {},
   "outputs": [
    {
     "data": {
      "text/plain": [
       "(1, 2, 3, 4, 7, 8, 98)"
      ]
     },
     "execution_count": 21,
     "metadata": {},
     "output_type": "execute_result"
    }
   ],
   "source": [
    "t"
   ]
  },
  {
   "cell_type": "code",
   "execution_count": 23,
   "id": "f9352526-1172-40f8-8298-ca46656395b0",
   "metadata": {},
   "outputs": [
    {
     "name": "stdout",
     "output_type": "stream",
     "text": [
      "1\n",
      "2\n",
      "3\n",
      "4\n",
      "7\n",
      "8\n",
      "98\n"
     ]
    }
   ],
   "source": [
    "value = 0\n",
    "for j in t:\n",
    "    print (j)"
   ]
  },
  {
   "cell_type": "code",
   "execution_count": 25,
   "id": "40ca2fb3-6a87-4817-8b94-970cfbf12894",
   "metadata": {},
   "outputs": [
    {
     "data": {
      "text/plain": [
       "123"
      ]
     },
     "execution_count": 25,
     "metadata": {},
     "output_type": "execute_result"
    }
   ],
   "source": [
    "value = 0\n",
    "for j in t:\n",
    "    value = value + j \n",
    "value"
   ]
  },
  {
   "cell_type": "code",
   "execution_count": 26,
   "id": "ea27f654-ff9c-46fe-8308-2f933ba4fa85",
   "metadata": {},
   "outputs": [],
   "source": [
    "# we can execute the word of variable \n",
    "s1 = \"pwskill\""
   ]
  },
  {
   "cell_type": "code",
   "execution_count": 27,
   "id": "ab51d86a-3ac1-4304-8112-4c2b0b7064d9",
   "metadata": {},
   "outputs": [
    {
     "name": "stdout",
     "output_type": "stream",
     "text": [
      "p\n",
      "w\n",
      "s\n",
      "k\n",
      "i\n",
      "l\n",
      "l\n"
     ]
    }
   ],
   "source": [
    "for i in s1 :\n",
    "    print (i)"
   ]
  },
  {
   "cell_type": "code",
   "execution_count": 29,
   "id": "0485df2b-69ac-46a7-833c-3d4d949f0c14",
   "metadata": {},
   "outputs": [
    {
     "name": "stdout",
     "output_type": "stream",
     "text": [
      "p\n",
      "s\n",
      "i\n",
      "l\n"
     ]
    }
   ],
   "source": [
    "# we can modify the length of the string \n",
    "for i in range (0,len(s1), 2) :\n",
    "    print (s1[i])"
   ]
  },
  {
   "cell_type": "code",
   "execution_count": 30,
   "id": "1cd39e05-318d-41bc-b9f5-cc0333e4d33d",
   "metadata": {},
   "outputs": [],
   "source": [
    "#  we can use this by the set\n",
    "s = {\"key\" : \"akshay\", \"name\" : \"akshay\", \"roll\" : 721, \"sub\" : [\"python\", \"data science\", \"c++\", \"java\"]}"
   ]
  },
  {
   "cell_type": "code",
   "execution_count": 31,
   "id": "1bd6a76a-d43a-407b-ad38-1bc47752a744",
   "metadata": {},
   "outputs": [
    {
     "data": {
      "text/plain": [
       "{'key': 'akshay',\n",
       " 'name': 'akshay',\n",
       " 'roll': 721,\n",
       " 'sub': ['python', 'data science', 'c++', 'java']}"
      ]
     },
     "execution_count": 31,
     "metadata": {},
     "output_type": "execute_result"
    }
   ],
   "source": [
    "s"
   ]
  },
  {
   "cell_type": "code",
   "execution_count": 32,
   "id": "49d0441d-a788-44b6-ac0e-83cac5aaa8c7",
   "metadata": {},
   "outputs": [
    {
     "data": {
      "text/plain": [
       "dict_keys(['key', 'name', 'roll', 'sub'])"
      ]
     },
     "execution_count": 32,
     "metadata": {},
     "output_type": "execute_result"
    }
   ],
   "source": [
    "# to get the keys of set\n",
    "s.keys()"
   ]
  },
  {
   "cell_type": "code",
   "execution_count": 38,
   "id": "b7b0349f-1c41-4255-89c7-76473bc17220",
   "metadata": {},
   "outputs": [
    {
     "data": {
      "text/plain": [
       "dict_keys(['key', 'name', 'roll', 'sub'])"
      ]
     },
     "execution_count": 38,
     "metadata": {},
     "output_type": "execute_result"
    }
   ],
   "source": [
    "# \n",
    "s.keys()"
   ]
  },
  {
   "cell_type": "code",
   "execution_count": 39,
   "id": "fc889742-c688-4d69-bd5e-d83d9f197e4f",
   "metadata": {},
   "outputs": [
    {
     "data": {
      "text/plain": [
       "4"
      ]
     },
     "execution_count": 39,
     "metadata": {},
     "output_type": "execute_result"
    }
   ],
   "source": [
    "# to get the length of the set or dict\n",
    "len(s)"
   ]
  },
  {
   "cell_type": "code",
   "execution_count": 40,
   "id": "15c2a9bc-062e-42a1-974b-b0a2516e3348",
   "metadata": {},
   "outputs": [
    {
     "data": {
      "text/plain": [
       "'akshay'"
      ]
     },
     "execution_count": 40,
     "metadata": {},
     "output_type": "execute_result"
    }
   ],
   "source": [
    "# to get the value of key we can use get function\n",
    "s.get('key')"
   ]
  },
  {
   "cell_type": "code",
   "execution_count": 41,
   "id": "0685a1ae-1c82-4a3d-8a8b-190e9fc97311",
   "metadata": {},
   "outputs": [
    {
     "data": {
      "text/plain": [
       "dict_values(['akshay', 'akshay', 721, ['python', 'data science', 'c++', 'java']])"
      ]
     },
     "execution_count": 41,
     "metadata": {},
     "output_type": "execute_result"
    }
   ],
   "source": [
    "# to get the key value of the dict \n",
    "s.values()"
   ]
  },
  {
   "cell_type": "code",
   "execution_count": 43,
   "id": "02fbc51d-422e-4d95-a27d-ca9d9a1d0ef9",
   "metadata": {},
   "outputs": [
    {
     "data": {
      "text/plain": [
       "dict_items([('key', 'akshay'), ('name', 'akshay'), ('roll', 721), ('sub', ['python', 'data science', 'c++', 'java'])])"
      ]
     },
     "execution_count": 43,
     "metadata": {},
     "output_type": "execute_result"
    }
   ],
   "source": [
    "# to get the specific key and value of dict we can use items function \n",
    "s.items()"
   ]
  },
  {
   "cell_type": "code",
   "execution_count": 46,
   "id": "ed3c37dc-ad9f-4815-91f2-c392c76df99f",
   "metadata": {},
   "outputs": [
    {
     "name": "stdout",
     "output_type": "stream",
     "text": [
      "akshay\n",
      "akshay\n",
      "721\n",
      "['python', 'data science', 'c++', 'java']\n"
     ]
    }
   ],
   "source": [
    "# to get the keys value from the dict\n",
    "for i in s.keys() :\n",
    "    print (s[i])"
   ]
  },
  {
   "cell_type": "code",
   "execution_count": 48,
   "id": "f283d5d1-b34c-480f-933e-f6287f91d6da",
   "metadata": {},
   "outputs": [
    {
     "name": "stdout",
     "output_type": "stream",
     "text": [
      "akshay\n",
      "akshay\n",
      "721\n",
      "['python', 'data science', 'c++', 'java']\n"
     ]
    }
   ],
   "source": [
    "# to get the values from the keys\n",
    "for i in s.values():\n",
    "    print (i)"
   ]
  },
  {
   "cell_type": "code",
   "execution_count": 49,
   "id": "f0b70c89-2eb1-44f5-9550-2971dc698664",
   "metadata": {},
   "outputs": [
    {
     "data": {
      "text/plain": [
       "dict_items([('key', 'akshay'), ('name', 'akshay'), ('roll', 721), ('sub', ['python', 'data science', 'c++', 'java'])])"
      ]
     },
     "execution_count": 49,
     "metadata": {},
     "output_type": "execute_result"
    }
   ],
   "source": [
    "# to get the keys and specific value we can use the items function \n",
    "s.items()"
   ]
  },
  {
   "cell_type": "code",
   "execution_count": 50,
   "id": "d4c1c3bd-425d-4df5-b14a-a7bc07f7c4d1",
   "metadata": {},
   "outputs": [
    {
     "name": "stdout",
     "output_type": "stream",
     "text": [
      "('key', 'akshay')\n",
      "('name', 'akshay')\n",
      "('roll', 721)\n",
      "('sub', ['python', 'data science', 'c++', 'java'])\n"
     ]
    }
   ],
   "source": [
    "# to get the specific key and value by loop \n",
    "for i in s.items():\n",
    "    print (i)"
   ]
  },
  {
   "cell_type": "code",
   "execution_count": null,
   "id": "b9b3b257-729e-4dff-adb2-982affc39c97",
   "metadata": {},
   "outputs": [],
   "source": []
  }
 ],
 "metadata": {
  "kernelspec": {
   "display_name": "Python 3 (ipykernel)",
   "language": "python",
   "name": "python3"
  },
  "language_info": {
   "codemirror_mode": {
    "name": "ipython",
    "version": 3
   },
   "file_extension": ".py",
   "mimetype": "text/x-python",
   "name": "python",
   "nbconvert_exporter": "python",
   "pygments_lexer": "ipython3",
   "version": "3.10.8"
  }
 },
 "nbformat": 4,
 "nbformat_minor": 5
}

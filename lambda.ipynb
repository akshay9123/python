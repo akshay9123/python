{
 "cells": [
  {
   "cell_type": "code",
   "execution_count": 1,
   "id": "97ba7b84-0b16-4adc-aad1-976015e3925c",
   "metadata": {},
   "outputs": [],
   "source": [
    "# lambda function is a annamanous function, or simple function that should be used to create a simple or basic function \n",
    "# before : symnbole we need to give input, and after : function the required output is return \n",
    "c = lambda a,b : a**b"
   ]
  },
  {
   "cell_type": "code",
   "execution_count": 3,
   "id": "06b7957a-27c7-46f8-b75d-e43e1084e720",
   "metadata": {},
   "outputs": [
    {
     "data": {
      "text/plain": [
       "9"
      ]
     },
     "execution_count": 3,
     "metadata": {},
     "output_type": "execute_result"
    }
   ],
   "source": [
    "c(3,2)"
   ]
  },
  {
   "cell_type": "code",
   "execution_count": 7,
   "id": "8359730f-eeea-4328-9a38-94fa18da859c",
   "metadata": {},
   "outputs": [],
   "source": [
    "a=lambda : print(\"hello akshay\")"
   ]
  },
  {
   "cell_type": "code",
   "execution_count": 8,
   "id": "e0ca4b19-0981-439f-8d03-23b648a85be6",
   "metadata": {},
   "outputs": [
    {
     "name": "stdout",
     "output_type": "stream",
     "text": [
      "hello akshay\n"
     ]
    }
   ],
   "source": [
    "a()"
   ]
  },
  {
   "cell_type": "code",
   "execution_count": 13,
   "id": "d75e4ab4-4fa7-4654-b686-35d07db6ca57",
   "metadata": {},
   "outputs": [],
   "source": [
    "c_to_f = lambda x : (x*95 ) + 32"
   ]
  },
  {
   "cell_type": "code",
   "execution_count": 14,
   "id": "4f0cfba9-5952-4d2d-96f9-521ae914af35",
   "metadata": {},
   "outputs": [
    {
     "data": {
      "text/plain": [
       "3547"
      ]
     },
     "execution_count": 14,
     "metadata": {},
     "output_type": "execute_result"
    }
   ],
   "source": [
    "c_to_f(37)"
   ]
  },
  {
   "cell_type": "code",
   "execution_count": 18,
   "id": "c77cb684-1789-4eca-b02b-7135c5f25ba4",
   "metadata": {},
   "outputs": [],
   "source": [
    "# in the condition case the return condition is print first and the process is executed the second\n",
    "find_max = lambda a,b : a if a> b else b"
   ]
  },
  {
   "cell_type": "code",
   "execution_count": 16,
   "id": "346ba416-5303-440f-8023-b4b4e7ffc945",
   "metadata": {},
   "outputs": [
    {
     "data": {
      "text/plain": [
       "4"
      ]
     },
     "execution_count": 16,
     "metadata": {},
     "output_type": "execute_result"
    }
   ],
   "source": [
    "find_max(3,4)"
   ]
  },
  {
   "cell_type": "code",
   "execution_count": 17,
   "id": "490c2a77-ac67-4c12-97e6-b7701611c9f4",
   "metadata": {},
   "outputs": [
    {
     "data": {
      "text/plain": [
       "5"
      ]
     },
     "execution_count": 17,
     "metadata": {},
     "output_type": "execute_result"
    }
   ],
   "source": [
    "find_max(5,4)"
   ]
  },
  {
   "cell_type": "code",
   "execution_count": 19,
   "id": "f6ec2221-02a9-46e2-84d4-b5c9de4b6b2d",
   "metadata": {},
   "outputs": [],
   "source": [
    "b=\"akshay\""
   ]
  },
  {
   "cell_type": "code",
   "execution_count": 22,
   "id": "3a34ea97-2def-42f2-adb7-5f32e7976598",
   "metadata": {},
   "outputs": [],
   "source": [
    "find_len=lambda b : len(b)"
   ]
  },
  {
   "cell_type": "code",
   "execution_count": 25,
   "id": "8accd31c-8886-45f8-8293-597735248af9",
   "metadata": {},
   "outputs": [
    {
     "data": {
      "text/plain": [
       "6"
      ]
     },
     "execution_count": 25,
     "metadata": {},
     "output_type": "execute_result"
    }
   ],
   "source": [
    "find_len(b)"
   ]
  },
  {
   "cell_type": "code",
   "execution_count": null,
   "id": "8f6ebacc-a6b0-43ac-bdc4-fdf6ba8a5d91",
   "metadata": {},
   "outputs": [],
   "source": []
  }
 ],
 "metadata": {
  "kernelspec": {
   "display_name": "Python 3 (ipykernel)",
   "language": "python",
   "name": "python3"
  },
  "language_info": {
   "codemirror_mode": {
    "name": "ipython",
    "version": 3
   },
   "file_extension": ".py",
   "mimetype": "text/x-python",
   "name": "python",
   "nbconvert_exporter": "python",
   "pygments_lexer": "ipython3",
   "version": "3.10.8"
  }
 },
 "nbformat": 4,
 "nbformat_minor": 5
}

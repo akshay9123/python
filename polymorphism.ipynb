{
 "cells": [
  {
   "cell_type": "code",
   "execution_count": 1,
   "id": "c874e229-22be-42c5-8e42-8245a7480447",
   "metadata": {},
   "outputs": [],
   "source": [
    "# polymorphism means the multiple form of one thing\n",
    "def test(a,b):\n",
    "    return a+b"
   ]
  },
  {
   "cell_type": "code",
   "execution_count": 2,
   "id": "2d8794e3-0fa6-4e35-ba10-e3fd48acc604",
   "metadata": {},
   "outputs": [
    {
     "data": {
      "text/plain": [
       "9"
      ]
     },
     "execution_count": 2,
     "metadata": {},
     "output_type": "execute_result"
    }
   ],
   "source": [
    "test(4,5)"
   ]
  },
  {
   "cell_type": "code",
   "execution_count": 3,
   "id": "ff4c2b5c-4188-4d2b-9e7a-900c5bf069a9",
   "metadata": {},
   "outputs": [],
   "source": [
    "# here we have passed the two int and the fuction add the both the number and return their sum"
   ]
  },
  {
   "cell_type": "code",
   "execution_count": 4,
   "id": "f4b29604-7bca-4909-967a-bd1869e9841a",
   "metadata": {},
   "outputs": [
    {
     "data": {
      "text/plain": [
       "'akshay jha'"
      ]
     },
     "execution_count": 4,
     "metadata": {},
     "output_type": "execute_result"
    }
   ],
   "source": [
    "test(\"akshay \", \"jha\")"
   ]
  },
  {
   "cell_type": "code",
   "execution_count": 5,
   "id": "18da351f-026b-4773-b82c-7a7eebf0438c",
   "metadata": {},
   "outputs": [],
   "source": [
    "# here we have passed two string and the function just concatinate the both of the string, previous both the int value is just added, "
   ]
  },
  {
   "cell_type": "code",
   "execution_count": 7,
   "id": "b369e47c-bb5a-4e99-94c0-d51d63ecd21c",
   "metadata": {},
   "outputs": [
    {
     "data": {
      "text/plain": [
       "[1, 2, 34, 4, 2, 3, 45, 6]"
      ]
     },
     "execution_count": 7,
     "metadata": {},
     "output_type": "execute_result"
    }
   ],
   "source": [
    "test([1,2,34,4],[2,3,45,6])"
   ]
  },
  {
   "cell_type": "code",
   "execution_count": 8,
   "id": "99b93595-fb6f-4799-85d8-d79eb2388136",
   "metadata": {},
   "outputs": [],
   "source": [
    "# here also test function just join the both list"
   ]
  },
  {
   "cell_type": "code",
   "execution_count": 9,
   "id": "3bddd7bd-9b6a-468b-8eaf-a6b5bb511e94",
   "metadata": {},
   "outputs": [],
   "source": [
    "class data_science:\n",
    "    def syllabus(self):\n",
    "        print(\"this is data science probelm\")"
   ]
  },
  {
   "cell_type": "code",
   "execution_count": 10,
   "id": "09291911-b0be-4472-8b08-cb9efbdd045a",
   "metadata": {},
   "outputs": [],
   "source": [
    "class web_dev:\n",
    "    def syllabus(self):\n",
    "        print(\"this is web developent problem\")"
   ]
  },
  {
   "cell_type": "code",
   "execution_count": 11,
   "id": "aa9f310f-974a-4b93-865c-7c0f914d74b4",
   "metadata": {},
   "outputs": [],
   "source": [
    "ds=data_science()"
   ]
  },
  {
   "cell_type": "code",
   "execution_count": 13,
   "id": "b68a48fb-7d32-471f-9b0e-888056dede1b",
   "metadata": {},
   "outputs": [
    {
     "name": "stdout",
     "output_type": "stream",
     "text": [
      "this is data science probelm\n"
     ]
    }
   ],
   "source": [
    "ds.syllabus()"
   ]
  },
  {
   "cell_type": "code",
   "execution_count": 14,
   "id": "8daa9591-a9a0-4879-aadc-69964dc754fc",
   "metadata": {},
   "outputs": [],
   "source": [
    "wb=web_dev()"
   ]
  },
  {
   "cell_type": "code",
   "execution_count": 15,
   "id": "923cc39f-41bd-4e59-b341-e6631fa747b0",
   "metadata": {},
   "outputs": [
    {
     "name": "stdout",
     "output_type": "stream",
     "text": [
      "this is web developent problem\n"
     ]
    }
   ],
   "source": [
    "wb.syllabus()"
   ]
  },
  {
   "cell_type": "code",
   "execution_count": 19,
   "id": "f1294478-b778-41be-bcb5-cd1bd23d4672",
   "metadata": {},
   "outputs": [],
   "source": [
    "def class_parcer(class_obj):\n",
    "    for i in class_obj:\n",
    "        i.syllabus()\n",
    "    "
   ]
  },
  {
   "cell_type": "code",
   "execution_count": 17,
   "id": "6392243c-3949-49e2-87aa-8442abd56316",
   "metadata": {},
   "outputs": [],
   "source": [
    "class_obj = [ds,wb]"
   ]
  },
  {
   "cell_type": "code",
   "execution_count": 20,
   "id": "c7f0a6cf-091b-4223-882f-d14d23229faf",
   "metadata": {},
   "outputs": [
    {
     "name": "stdout",
     "output_type": "stream",
     "text": [
      "this is data science probelm\n",
      "this is web developent problem\n"
     ]
    }
   ],
   "source": [
    "class_parcer(class_obj)"
   ]
  },
  {
   "cell_type": "code",
   "execution_count": null,
   "id": "26befd89-f5f9-4604-a8c4-d36a6f5c048f",
   "metadata": {},
   "outputs": [],
   "source": []
  }
 ],
 "metadata": {
  "kernelspec": {
   "display_name": "Python 3 (ipykernel)",
   "language": "python",
   "name": "python3"
  },
  "language_info": {
   "codemirror_mode": {
    "name": "ipython",
    "version": 3
   },
   "file_extension": ".py",
   "mimetype": "text/x-python",
   "name": "python",
   "nbconvert_exporter": "python",
   "pygments_lexer": "ipython3",
   "version": "3.10.8"
  }
 },
 "nbformat": 4,
 "nbformat_minor": 5
}

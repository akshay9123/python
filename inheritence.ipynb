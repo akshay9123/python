{
 "cells": [
  {
   "cell_type": "code",
   "execution_count": 1,
   "id": "8d2c6b84-6217-432a-b590-26c5dae4164c",
   "metadata": {},
   "outputs": [],
   "source": [
    "# inheritance allows us to define a class that inherits all the methods and properties from another class. \n",
    "# Parent class is the class being inherited from, also ...\n"
   ]
  },
  {
   "cell_type": "code",
   "execution_count": 2,
   "id": "0851d49d-8e94-4fa5-9a98-f1b1497d03a0",
   "metadata": {},
   "outputs": [],
   "source": [
    "class parant:\n",
    "    def first(self):\n",
    "        print(\"this is first class\")"
   ]
  },
  {
   "cell_type": "code",
   "execution_count": 4,
   "id": "d5d24023-3750-42a6-8623-a241e9276a8e",
   "metadata": {},
   "outputs": [],
   "source": [
    "class child (parant):\n",
    "# here we have passed the first class to the second class. the first claass is called the parent class and the second class is called the child class. \n",
    "# now child class can acess the variable and method of parent class also because child class inherits the parent class\n",
    "    pass"
   ]
  },
  {
   "cell_type": "code",
   "execution_count": 10,
   "id": "258a6144-572c-406d-abad-25ca5d140bb3",
   "metadata": {},
   "outputs": [],
   "source": [
    "c=child()"
   ]
  },
  {
   "cell_type": "code",
   "execution_count": 11,
   "id": "d4b503fc-ba44-4dd5-aa87-e11bfd6324cd",
   "metadata": {},
   "outputs": [
    {
     "name": "stdout",
     "output_type": "stream",
     "text": [
      "this is first class\n"
     ]
    }
   ],
   "source": [
    "c.first()"
   ]
  },
  {
   "cell_type": "code",
   "execution_count": 21,
   "id": "b124f3cf-3c87-4fe4-9bce-118b2cd1c13f",
   "metadata": {},
   "outputs": [],
   "source": [
    "'''multilevel inheritence'''\n",
    "class first:\n",
    "    def test1(self):\n",
    "        print(\"this is first class\")"
   ]
  },
  {
   "cell_type": "code",
   "execution_count": 13,
   "id": "bec7e6dc-3a36-4702-912c-f6f193dc4de0",
   "metadata": {},
   "outputs": [],
   "source": [
    "class second(first):\n",
    "    def test2(self):\n",
    "        print(\"this is second class:\")"
   ]
  },
  {
   "cell_type": "code",
   "execution_count": 15,
   "id": "c54ae72a-2718-4937-a3e7-c5d92a022da1",
   "metadata": {},
   "outputs": [],
   "source": [
    "class third(second):\n",
    "    def test3(self):\n",
    "        print(\"this is third class\")"
   ]
  },
  {
   "cell_type": "code",
   "execution_count": 16,
   "id": "02e84f1d-d429-40a9-83ef-4256dd61f282",
   "metadata": {},
   "outputs": [],
   "source": [
    "obj=third()"
   ]
  },
  {
   "cell_type": "code",
   "execution_count": 17,
   "id": "9bb531e1-77dc-455a-968b-43a066ff0508",
   "metadata": {},
   "outputs": [
    {
     "name": "stdout",
     "output_type": "stream",
     "text": [
      "this is third class\n"
     ]
    }
   ],
   "source": [
    "obj.test3()"
   ]
  },
  {
   "cell_type": "code",
   "execution_count": 19,
   "id": "aae1769f-4115-477d-8d68-78e36fd19084",
   "metadata": {},
   "outputs": [
    {
     "name": "stdout",
     "output_type": "stream",
     "text": [
      "this is second class:\n"
     ]
    }
   ],
   "source": [
    "obj.test2()"
   ]
  },
  {
   "cell_type": "code",
   "execution_count": 20,
   "id": "f8a37c63-e2d5-4b37-8bba-41ce0646faf8",
   "metadata": {},
   "outputs": [
    {
     "name": "stdout",
     "output_type": "stream",
     "text": [
      "this is first class\n"
     ]
    }
   ],
   "source": [
    "obj.test1()"
   ]
  },
  {
   "cell_type": "code",
   "execution_count": 23,
   "id": "60b812dd-57e1-4f1d-ae00-a996152a859d",
   "metadata": {},
   "outputs": [],
   "source": [
    "'''multiple inheritence'''\n",
    "class one:\n",
    "    def class_one(self):\n",
    "        return \"this is first\""
   ]
  },
  {
   "cell_type": "code",
   "execution_count": 24,
   "id": "1711817e-36cd-467b-9f7d-10ed874fd7a2",
   "metadata": {},
   "outputs": [],
   "source": [
    "class two:\n",
    "    def class_two(self):\n",
    "        return \"this is second\""
   ]
  },
  {
   "cell_type": "code",
   "execution_count": null,
   "id": "101a9250-8a72-4803-9e67-c19a9a958cf3",
   "metadata": {},
   "outputs": [],
   "source": [
    "class third(one, two):\n",
    "    def class_third(self):\n",
    "        return \""
   ]
  }
 ],
 "metadata": {
  "kernelspec": {
   "display_name": "Python 3 (ipykernel)",
   "language": "python",
   "name": "python3"
  },
  "language_info": {
   "codemirror_mode": {
    "name": "ipython",
    "version": 3
   },
   "file_extension": ".py",
   "mimetype": "text/x-python",
   "name": "python",
   "nbconvert_exporter": "python",
   "pygments_lexer": "ipython3",
   "version": "3.10.8"
  }
 },
 "nbformat": 4,
 "nbformat_minor": 5
}

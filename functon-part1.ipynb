{
 "cells": [
  {
   "cell_type": "code",
   "execution_count": 1,
   "id": "c568ed03-9735-4ba0-90d9-a7d9cec92b29",
   "metadata": {},
   "outputs": [],
   "source": [
    "# we define function by the help of \"def\" keyword and after \"def\" we give function name\n",
    "def test():\n",
    "    print(\"this is akshay this side\")"
   ]
  },
  {
   "cell_type": "code",
   "execution_count": 2,
   "id": "f133ca7a-bc15-4b33-825e-52c332d25099",
   "metadata": {},
   "outputs": [
    {
     "name": "stdout",
     "output_type": "stream",
     "text": [
      "this is akshay this side\n"
     ]
    }
   ],
   "source": [
    "test()"
   ]
  },
  {
   "cell_type": "code",
   "execution_count": 3,
   "id": "52fa5cbd-65df-4e2b-a03a-fbfb6809292a",
   "metadata": {},
   "outputs": [],
   "source": [
    "l=\"this  is akshay this side\""
   ]
  },
  {
   "cell_type": "code",
   "execution_count": 4,
   "id": "32bbfebb-283b-4b43-8622-8799a2b1cc55",
   "metadata": {},
   "outputs": [
    {
     "data": {
      "text/plain": [
       "25"
      ]
     },
     "execution_count": 4,
     "metadata": {},
     "output_type": "execute_result"
    }
   ],
   "source": [
    "len(l)"
   ]
  },
  {
   "cell_type": "code",
   "execution_count": 6,
   "id": "823d9516-1555-4bba-8625-1b24c316dd66",
   "metadata": {},
   "outputs": [
    {
     "data": {
      "text/plain": [
       "'THIS  IS AKSHAY THIS SIDE'"
      ]
     },
     "execution_count": 6,
     "metadata": {},
     "output_type": "execute_result"
    }
   ],
   "source": [
    "l.upper()"
   ]
  },
  {
   "cell_type": "code",
   "execution_count": 7,
   "id": "798c7c6d-b30f-4eff-82b6-ef61e0c9fe49",
   "metadata": {},
   "outputs": [],
   "source": [
    "# if we need to create a function and currently we does not need to define that then, we will use \"pass\", ptherewise that will generate error\n",
    "def fun():\n",
    "    pass"
   ]
  },
  {
   "cell_type": "code",
   "execution_count": 8,
   "id": "3b857b73-4185-4c65-bae4-2ef54c9181bf",
   "metadata": {},
   "outputs": [],
   "source": [
    "fun()"
   ]
  },
  {
   "cell_type": "code",
   "execution_count": 10,
   "id": "808bbab0-97a4-437a-9204-75339c2373c4",
   "metadata": {},
   "outputs": [
    {
     "name": "stdout",
     "output_type": "stream",
     "text": [
      "this is akshay this side\n"
     ]
    },
    {
     "ename": "TypeError",
     "evalue": "unsupported operand type(s) for +: 'NoneType' and 'str'",
     "output_type": "error",
     "traceback": [
      "\u001b[0;31m---------------------------------------------------------------------------\u001b[0m",
      "\u001b[0;31mTypeError\u001b[0m                                 Traceback (most recent call last)",
      "Cell \u001b[0;32mIn[10], line 3\u001b[0m\n\u001b[1;32m      1\u001b[0m \u001b[38;5;66;03m# function enhance the reuselity of code and make the code eaier to user and the \u001b[39;00m\n\u001b[1;32m      2\u001b[0m \u001b[38;5;66;03m# here upper a test() name function is defined and we want to add the name with the function. is this possible, lets try\u001b[39;00m\n\u001b[0;32m----> 3\u001b[0m \u001b[43mtest\u001b[49m\u001b[43m(\u001b[49m\u001b[43m)\u001b[49m\u001b[38;5;241;43m+\u001b[39;49m\u001b[38;5;124;43m\"\u001b[39;49m\u001b[38;5;124;43makshay\u001b[39;49m\u001b[38;5;124;43m\"\u001b[39;49m\n",
      "\u001b[0;31mTypeError\u001b[0m: unsupported operand type(s) for +: 'NoneType' and 'str'"
     ]
    }
   ],
   "source": [
    "# function enhance the reuselity of code and make the code eaier to user and the \n",
    "# here upper a test() name function is defined and we want to add the name with the function. is this possible, lets try\n",
    "test()+\"akshay\""
   ]
  },
  {
   "cell_type": "code",
   "execution_count": 11,
   "id": "b213483d-d424-4a70-8801-7155c364006f",
   "metadata": {},
   "outputs": [],
   "source": [
    "# here, above its give an error ,'NoneType' and 'str' "
   ]
  },
  {
   "cell_type": "code",
   "execution_count": 13,
   "id": "c4e90ba3-cce4-44c7-871e-586e5597e629",
   "metadata": {},
   "outputs": [],
   "source": [
    "# to do this type of problem...\n",
    "# we will create a new function \n",
    "def test1():\n",
    "    return \"this  is akshay this side\"\n"
   ]
  },
  {
   "cell_type": "code",
   "execution_count": 14,
   "id": "2e6090d1-5aa8-49de-aa89-39c179fb4123",
   "metadata": {},
   "outputs": [
    {
     "data": {
      "text/plain": [
       "'this  is akshay this side'"
      ]
     },
     "execution_count": 14,
     "metadata": {},
     "output_type": "execute_result"
    }
   ],
   "source": [
    "test1()"
   ]
  },
  {
   "cell_type": "code",
   "execution_count": 15,
   "id": "caa1a121-efad-4245-a4b2-2e36f4ada55c",
   "metadata": {},
   "outputs": [
    {
     "data": {
      "text/plain": [
       "'this  is akshay this side its happend'"
      ]
     },
     "execution_count": 15,
     "metadata": {},
     "output_type": "execute_result"
    }
   ],
   "source": [
    "test1()+\" its happend\""
   ]
  },
  {
   "cell_type": "code",
   "execution_count": 16,
   "id": "53e36140-1488-4e68-b31e-6e947ba45252",
   "metadata": {},
   "outputs": [],
   "source": [
    "# this makes possible because the keyword \"return\" return the datatype as it is , but print function always show \"nonetype\" datatype"
   ]
  },
  {
   "cell_type": "code",
   "execution_count": 17,
   "id": "704c70a8-a04e-41d4-9761-780933d02eeb",
   "metadata": {},
   "outputs": [],
   "source": [
    "def test2():\n",
    "    return \"akshay\", 23,23.5,[1,2,3]"
   ]
  },
  {
   "cell_type": "code",
   "execution_count": 19,
   "id": "ebea9cc1-e9d9-4d34-ab91-535a1509f5b7",
   "metadata": {},
   "outputs": [
    {
     "data": {
      "text/plain": [
       "('akshay', 23, 23.5, [1, 2, 3])"
      ]
     },
     "execution_count": 19,
     "metadata": {},
     "output_type": "execute_result"
    }
   ],
   "source": [
    "test2()"
   ]
  },
  {
   "cell_type": "code",
   "execution_count": 20,
   "id": "21f96759-c38c-4ebe-b554-f27198f922ab",
   "metadata": {},
   "outputs": [],
   "source": [
    "# return keyword return the multiple type of datatypes here test2() shows that and the proof is avaliable by the test2()"
   ]
  },
  {
   "cell_type": "code",
   "execution_count": 24,
   "id": "bd6cb392-0087-4be2-82cd-221102e8b197",
   "metadata": {},
   "outputs": [],
   "source": [
    "# we can declare value also by the function \n",
    "a,b,c,d=test2()"
   ]
  },
  {
   "cell_type": "code",
   "execution_count": 25,
   "id": "85146cf8-f350-4d33-9b13-1440eaa0a177",
   "metadata": {},
   "outputs": [
    {
     "data": {
      "text/plain": [
       "'akshay'"
      ]
     },
     "execution_count": 25,
     "metadata": {},
     "output_type": "execute_result"
    }
   ],
   "source": [
    "a"
   ]
  },
  {
   "cell_type": "code",
   "execution_count": 26,
   "id": "937e834a-6cd2-486c-970c-b5b55a70d6f1",
   "metadata": {},
   "outputs": [
    {
     "data": {
      "text/plain": [
       "23"
      ]
     },
     "execution_count": 26,
     "metadata": {},
     "output_type": "execute_result"
    }
   ],
   "source": [
    "b"
   ]
  },
  {
   "cell_type": "code",
   "execution_count": 27,
   "id": "33cad21c-7e08-4b20-a29f-74e365634e94",
   "metadata": {},
   "outputs": [],
   "source": [
    "# function return the logic also\n",
    "def test3():\n",
    "    a=5+6/7\n",
    "    return a"
   ]
  },
  {
   "cell_type": "code",
   "execution_count": 32,
   "id": "af147a9f-af18-491c-b2b0-94095d4b051e",
   "metadata": {},
   "outputs": [
    {
     "data": {
      "text/plain": [
       "5.857142857142857"
      ]
     },
     "execution_count": 32,
     "metadata": {},
     "output_type": "execute_result"
    }
   ],
   "source": [
    "test3()"
   ]
  },
  {
   "cell_type": "code",
   "execution_count": 33,
   "id": "2377dda3-04aa-4f35-bc3f-9589f93fbf77",
   "metadata": {},
   "outputs": [],
   "source": [
    "# passing argunent to a function \n",
    "def test4(a,b,c):\n",
    "    d=a+b/c\n",
    "    return d"
   ]
  },
  {
   "cell_type": "code",
   "execution_count": 34,
   "id": "07e4b515-18cd-4508-b3e9-08a005e29e88",
   "metadata": {},
   "outputs": [
    {
     "ename": "TypeError",
     "evalue": "test4() missing 3 required positional arguments: 'a', 'b', and 'c'",
     "output_type": "error",
     "traceback": [
      "\u001b[0;31m---------------------------------------------------------------------------\u001b[0m",
      "\u001b[0;31mTypeError\u001b[0m                                 Traceback (most recent call last)",
      "Cell \u001b[0;32mIn[34], line 1\u001b[0m\n\u001b[0;32m----> 1\u001b[0m \u001b[43mtest4\u001b[49m\u001b[43m(\u001b[49m\u001b[43m)\u001b[49m\n",
      "\u001b[0;31mTypeError\u001b[0m: test4() missing 3 required positional arguments: 'a', 'b', and 'c'"
     ]
    }
   ],
   "source": [
    "test4()"
   ]
  },
  {
   "cell_type": "code",
   "execution_count": 35,
   "id": "662cef37-6d1e-4607-aea0-108832013b6e",
   "metadata": {},
   "outputs": [
    {
     "data": {
      "text/plain": [
       "3.8"
      ]
     },
     "execution_count": 35,
     "metadata": {},
     "output_type": "execute_result"
    }
   ],
   "source": [
    "# here error is show because argument is missing, we have to assign the value of argument\n",
    "test4(3,4,5)"
   ]
  },
  {
   "cell_type": "code",
   "execution_count": 36,
   "id": "dd003e5c-1ce8-47a6-9778-b871b8d14e2a",
   "metadata": {},
   "outputs": [],
   "source": [
    "def test5(a,b):\n",
    "    return a+b"
   ]
  },
  {
   "cell_type": "code",
   "execution_count": 37,
   "id": "9a2d78e4-8d7f-4709-a6ca-4392b7196378",
   "metadata": {},
   "outputs": [
    {
     "data": {
      "text/plain": [
       "7"
      ]
     },
     "execution_count": 37,
     "metadata": {},
     "output_type": "execute_result"
    }
   ],
   "source": [
    "test5(3,4)"
   ]
  },
  {
   "cell_type": "code",
   "execution_count": 39,
   "id": "000319eb-d43d-4132-aa72-6d062c496488",
   "metadata": {},
   "outputs": [
    {
     "data": {
      "text/plain": [
       "'akshay jha'"
      ]
     },
     "execution_count": 39,
     "metadata": {},
     "output_type": "execute_result"
    }
   ],
   "source": [
    "# we can concatenate the string also by the function\n",
    "test5(\"akshay\", \" jha\")"
   ]
  },
  {
   "cell_type": "code",
   "execution_count": 40,
   "id": "6765c56b-21cb-4e82-b0da-c64341fa202c",
   "metadata": {},
   "outputs": [],
   "source": [
    "# if we need to saperate the value in list like put the integer value in other list and put the string vlaue in another list\n",
    "l=[1,2,3,4,\"akshay\",\"jha\",[4,5,6,7,8]]"
   ]
  },
  {
   "cell_type": "code",
   "execution_count": 45,
   "id": "cf355d08-a5db-4d29-a18b-a7f7b9fb7b04",
   "metadata": {},
   "outputs": [],
   "source": [
    "l1=[]\n",
    "for i in l:\n",
    "    if type(i)==int or type(i)==float:\n",
    "        l1.append(i)"
   ]
  },
  {
   "cell_type": "code",
   "execution_count": 46,
   "id": "63f20383-186f-469d-8c6b-d8e0aefa5890",
   "metadata": {},
   "outputs": [
    {
     "data": {
      "text/plain": [
       "[1, 2, 3, 4]"
      ]
     },
     "execution_count": 46,
     "metadata": {},
     "output_type": "execute_result"
    }
   ],
   "source": [
    "l1"
   ]
  },
  {
   "cell_type": "code",
   "execution_count": 57,
   "id": "992ddb90-27d9-4825-ba50-a7202e2d63ca",
   "metadata": {},
   "outputs": [],
   "source": [
    "def test6(l):\n",
    "    l1=[]\n",
    "    for i in l:\n",
    "        if type(i)==int or type(i)==float:\n",
    "            l1.append(i)\n",
    "    return l1"
   ]
  },
  {
   "cell_type": "code",
   "execution_count": 58,
   "id": "639cd6b1-997c-4a75-91c8-71b6554ca505",
   "metadata": {},
   "outputs": [
    {
     "data": {
      "text/plain": [
       "[1, 2, 3, 4]"
      ]
     },
     "execution_count": 58,
     "metadata": {},
     "output_type": "execute_result"
    }
   ],
   "source": [
    "test6(l)"
   ]
  },
  {
   "cell_type": "code",
   "execution_count": 63,
   "id": "ccf28590-4927-4b5f-8f76-981a6b7a6287",
   "metadata": {},
   "outputs": [],
   "source": [
    "# if we need to execute the list and list inside list then\n",
    "def test7(a):\n",
    "#     if we make any function and we need to specify the dockstring then we will put them in triple quote and after if we need to check the dockstring weite the function name and press \n",
    "#     shift + tab\n",
    "    '''if we need to execute the list and list inside list then'''\n",
    "    l=[]\n",
    "    for i in a:\n",
    "        if type(i) == list:\n",
    "            for j in i :\n",
    "                l.append(j)\n",
    "        else :\n",
    "            if type(i)==int or type(i) == float:\n",
    "                l.append(i)\n",
    "    return l"
   ]
  },
  {
   "cell_type": "code",
   "execution_count": 65,
   "id": "7c6936be-6adc-4b7e-9953-931cab09b8e5",
   "metadata": {},
   "outputs": [
    {
     "data": {
      "text/plain": [
       "[1, 2, 3, 4, 4, 5, 6, 7, 8]"
      ]
     },
     "execution_count": 65,
     "metadata": {},
     "output_type": "execute_result"
    }
   ],
   "source": [
    "test7(l)"
   ]
  },
  {
   "cell_type": "code",
   "execution_count": 61,
   "id": "3ba690f0-7dc0-45b0-b380-523c0225df54",
   "metadata": {},
   "outputs": [
    {
     "data": {
      "text/plain": [
       "[1, 2, 3, 4, 'akshay', 'jha', [4, 5, 6, 7, 8]]"
      ]
     },
     "execution_count": 61,
     "metadata": {},
     "output_type": "execute_result"
    }
   ],
   "source": [
    "l"
   ]
  },
  {
   "cell_type": "code",
   "execution_count": 70,
   "id": "ee47355f-a615-4e32-af0b-4ae9debeab71",
   "metadata": {},
   "outputs": [],
   "source": [
    "# if user want to pass the n no of argument\n",
    "def test8(*args):\n",
    "    return args"
   ]
  },
  {
   "cell_type": "code",
   "execution_count": 71,
   "id": "cc776c6b-db3f-4879-b1a6-ea7c0269c45d",
   "metadata": {},
   "outputs": [
    {
     "data": {
      "text/plain": [
       "(1, 2, 3, 'akshay', 'jha')"
      ]
     },
     "execution_count": 71,
     "metadata": {},
     "output_type": "execute_result"
    }
   ],
   "source": [
    "test8(1,2,3,\"akshay\",\"jha\")"
   ]
  },
  {
   "cell_type": "code",
   "execution_count": 72,
   "id": "5ff42f0c-9437-43ba-944f-509cc1fe69a2",
   "metadata": {},
   "outputs": [],
   "source": [
    "# we can use default vlaue or overide the value in argument in function also \n",
    "def test9(a,b,c=10,d=11):\n",
    "    return a,b,c,d"
   ]
  },
  {
   "cell_type": "code",
   "execution_count": 74,
   "id": "95f24194-39de-4c12-bd08-3013f2323012",
   "metadata": {},
   "outputs": [
    {
     "data": {
      "text/plain": [
       "(11, 12, 10, 11)"
      ]
     },
     "execution_count": 74,
     "metadata": {},
     "output_type": "execute_result"
    }
   ],
   "source": [
    "# here we can put the value of to the argument of a function \n",
    "# if we not assign the value of argument in the function, then assign is must in the time of function call\n",
    "# and we if we need to assign the default vlaue to the new value this we can also do in time of function call\n",
    "test9(11,12)"
   ]
  },
  {
   "cell_type": "code",
   "execution_count": 75,
   "id": "66f3adf7-6032-4c35-9b9f-128f1ee960b1",
   "metadata": {},
   "outputs": [
    {
     "data": {
      "text/plain": [
       "(11, 13, 15, 13)"
      ]
     },
     "execution_count": 75,
     "metadata": {},
     "output_type": "execute_result"
    }
   ],
   "source": [
    "# overide the value of argument in the function \n",
    "test9(11,13,c=15,d=13)\n",
    "# hence the value is overidden "
   ]
  },
  {
   "cell_type": "code",
   "execution_count": 76,
   "id": "60d095e0-a1aa-4f14-904d-ebf6461f1c93",
   "metadata": {},
   "outputs": [],
   "source": [
    "# if the user need the value in type of dict then we will use \"**kwargs\"\n",
    "# kwargs is a keyword\n",
    "def test10(**kwargs):\n",
    "    return kwargs"
   ]
  },
  {
   "cell_type": "code",
   "execution_count": 77,
   "id": "3038434f-cbd9-42fa-8469-c9bd1436df92",
   "metadata": {},
   "outputs": [
    {
     "data": {
      "text/plain": [
       "{}"
      ]
     },
     "execution_count": 77,
     "metadata": {},
     "output_type": "execute_result"
    }
   ],
   "source": [
    "test10()"
   ]
  },
  {
   "cell_type": "code",
   "execution_count": 78,
   "id": "68865219-95b1-4dd0-a74a-dbfa1cf89f69",
   "metadata": {},
   "outputs": [
    {
     "data": {
      "text/plain": [
       "dict"
      ]
     },
     "execution_count": 78,
     "metadata": {},
     "output_type": "execute_result"
    }
   ],
   "source": [
    "type(test10())"
   ]
  },
  {
   "cell_type": "code",
   "execution_count": null,
   "id": "e21f6a5f-b551-45c7-84e2-ab6faaf2f03d",
   "metadata": {},
   "outputs": [],
   "source": [
    "test10(a=["
   ]
  }
 ],
 "metadata": {
  "kernelspec": {
   "display_name": "Python 3 (ipykernel)",
   "language": "python",
   "name": "python3"
  },
  "language_info": {
   "codemirror_mode": {
    "name": "ipython",
    "version": 3
   },
   "file_extension": ".py",
   "mimetype": "text/x-python",
   "name": "python",
   "nbconvert_exporter": "python",
   "pygments_lexer": "ipython3",
   "version": "3.10.8"
  }
 },
 "nbformat": 4,
 "nbformat_minor": 5
}

{
 "cells": [
  {
   "cell_type": "code",
   "execution_count": 5,
   "id": "5607b4be-aa3a-4fe4-b2e0-4d900a7dc00c",
   "metadata": {},
   "outputs": [],
   "source": [
    "'''Q1. Which keyword is used to create a function? Create a function to return a list of odd numbers in the\n",
    "range of 1 to 25.'''\n",
    "'''ans:- def keyboard is used to create a function'''\n",
    "def num():\n",
    "    l=[]\n",
    "    for i in range(0,26):\n",
    "        if i%2!=0:\n",
    "            l.append(i)\n",
    "    return l"
   ]
  },
  {
   "cell_type": "code",
   "execution_count": 6,
   "id": "8e2b92a4-e57a-4c3d-aeaf-207e3d9f4873",
   "metadata": {},
   "outputs": [
    {
     "data": {
      "text/plain": [
       "[1, 3, 5, 7, 9, 11, 13, 15, 17, 19, 21, 23, 25]"
      ]
     },
     "execution_count": 6,
     "metadata": {},
     "output_type": "execute_result"
    }
   ],
   "source": [
    "num()"
   ]
  },
  {
   "cell_type": "code",
   "execution_count": 8,
   "id": "a9bf4233-4b21-4115-bd00-547cbf9be507",
   "metadata": {},
   "outputs": [
    {
     "data": {
      "text/plain": [
       "'ans:- *args is used to if user want to pass the n no. of argument args is not a keyword we can use any other name also in the place of args. **kwargs is used to \\n         assign the argument in the form of dictionary, we must to assign the key and value both in the arg when we need to call the function'"
      ]
     },
     "execution_count": 8,
     "metadata": {},
     "output_type": "execute_result"
    }
   ],
   "source": [
    "'''Q2. Why *args and **kwargs is used in some functions? Create a function each for *args and **kwargs\n",
    "to demonstrate their use.'''\n",
    "'''ans:- *args is used to if user want to pass the n no. of argument args is not a keyword we can use any other name also in the place of args. **kwargs is used to \n",
    "         assign the argument in the form of dictionary, we must to assign the key and value both in the arg when we need to call the function'''\n"
   ]
  },
  {
   "cell_type": "code",
   "execution_count": 12,
   "id": "f66afd4e-5fd2-49fa-9932-dd8f1266b7a7",
   "metadata": {},
   "outputs": [],
   "source": [
    "'''Q3. What is an iterator in python? Name the method used to initialise the iterator object and the method\n",
    "used for iteration. Use these methods to print the first five elements of the given list [2, 4, 6, 8, 10, 12, 14,\n",
    "16, 18, 20].'''\n",
    "'''ans:- An iterator is an object that contains a countable number of values. The iterator object is initialized using the iter() method. It uses the next() method for iteration\n",
    "        '''\n",
    "\n",
    "def exam():\n",
    "    lis=[2,4,6,8,10,12,14,16,18,20]\n",
    "    for i in lis:\n",
    "        if i%2==0:\n",
    "            print (i)"
   ]
  },
  {
   "cell_type": "code",
   "execution_count": 13,
   "id": "99049154-63d4-4a0c-a1e8-5e131a4c102f",
   "metadata": {},
   "outputs": [
    {
     "name": "stdout",
     "output_type": "stream",
     "text": [
      "2\n",
      "4\n",
      "6\n",
      "8\n",
      "10\n",
      "12\n",
      "14\n",
      "16\n",
      "18\n",
      "20\n"
     ]
    }
   ],
   "source": [
    "exam()"
   ]
  },
  {
   "cell_type": "code",
   "execution_count": 15,
   "id": "72e28c13-7ddd-4866-aaa0-ece22572b9ac",
   "metadata": {},
   "outputs": [
    {
     "name": "stdout",
     "output_type": "stream",
     "text": [
      "0\n",
      "1\n",
      "2\n"
     ]
    }
   ],
   "source": [
    "'''Q4. What is a generator function in python? Why yield keyword is used? Give an example of a generator\n",
    "function.'''\n",
    "'''ans:- generator functions are those functions that, instead of returning a single value, return an iterable generator object.\n",
    "         the yield keyword will convert an expression that is specified along with it to a generator object and return it to the caller.\n",
    "         '''\n",
    "'''example of generator'''\n",
    "def my_generator(n):\n",
    "\n",
    "    \n",
    "    value = 0\n",
    "\n",
    "    \n",
    "    while value < n:\n",
    "\n",
    "        \n",
    "        yield value\n",
    "\n",
    "        \n",
    "        value += 1\n",
    "\n",
    "\n",
    "for value in my_generator(3):\n",
    "\n",
    "   \n",
    "    print(value)"
   ]
  },
  {
   "cell_type": "code",
   "execution_count": 16,
   "id": "105c3dbb-aac6-435e-9600-52ea6baf1c94",
   "metadata": {},
   "outputs": [
    {
     "data": {
      "text/plain": [
       "'Q5. Create a generator function for prime numbers less than 1000. Use the next() method to print the\\nfirst 20 prime numbers.'"
      ]
     },
     "execution_count": 16,
     "metadata": {},
     "output_type": "execute_result"
    }
   ],
   "source": [
    "'''Q5. Create a generator function for prime numbers less than 1000. Use the next() method to print the\n",
    "first 20 prime numbers.'''"
   ]
  },
  {
   "cell_type": "code",
   "execution_count": 17,
   "id": "b23b58cb-4264-4c11-a494-614197ae39f3",
   "metadata": {},
   "outputs": [],
   "source": [
    "'''Q6. Write a python program to print the first 10 Fibonacci numbers using a while loop.'''\n",
    "'''ans:- '''\n",
    "def febona():\n",
    "    number=10\n",
    "    a,b=0,1\n",
    "    counter=0\n",
    "    while counter<number:\n",
    "        print(a)\n",
    "        c=a+b\n",
    "        a=b\n",
    "        b=c\n",
    "        counter = counter +1"
   ]
  },
  {
   "cell_type": "code",
   "execution_count": 18,
   "id": "691cfb8b-4638-4113-b089-23271415992f",
   "metadata": {},
   "outputs": [
    {
     "name": "stdout",
     "output_type": "stream",
     "text": [
      "0\n",
      "1\n",
      "1\n",
      "2\n",
      "3\n",
      "5\n",
      "8\n",
      "13\n",
      "21\n",
      "34\n"
     ]
    }
   ],
   "source": [
    "febona()"
   ]
  },
  {
   "cell_type": "code",
   "execution_count": 21,
   "id": "25dcdbb1-0f1a-4199-adb5-5666c4d6c649",
   "metadata": {},
   "outputs": [],
   "source": [
    "'''Q7. Write a List Comprehension to iterate through the given string: ‘pwskills’.\n",
    "Expected output: ['p', 'w', 's', 'k', 'i', 'l', 'l', 's']'''\n",
    "'''ans:- '''\n",
    "def st():\n",
    "    l=[]\n",
    "    s='pwskills'\n",
    "    for i in s:\n",
    "        l.append(i)\n",
    "    print(l)"
   ]
  },
  {
   "cell_type": "code",
   "execution_count": 22,
   "id": "3dce3648-fe97-45e7-9446-aa5ccae69616",
   "metadata": {},
   "outputs": [
    {
     "name": "stdout",
     "output_type": "stream",
     "text": [
      "['p', 'w', 's', 'k', 'i', 'l', 'l', 's']\n"
     ]
    }
   ],
   "source": [
    "st()"
   ]
  },
  {
   "cell_type": "code",
   "execution_count": 23,
   "id": "6264076a-79ab-493a-a61d-d7820f11f615",
   "metadata": {},
   "outputs": [
    {
     "name": "stdin",
     "output_type": "stream",
     "text": [
      "Enter any number: 1256\n"
     ]
    },
    {
     "name": "stdout",
     "output_type": "stream",
     "text": [
      "Not a palindrome!\n"
     ]
    }
   ],
   "source": [
    "'''Q8. Write a python program to check whether a given number is Palindrome or not using a while loop.'''\n",
    "'''ans:- '''\n",
    "num=int(input(\"Enter any number:\"))\n",
    "temp=num\n",
    "rev=0\n",
    "while(num>0):\n",
    "    dig=num%10\n",
    "    rev=rev*10+dig\n",
    "    num=num//10\n",
    "if(temp==rev):\n",
    "    print(\"The {0} number is palindrome!\".format(temp))\n",
    "else:\n",
    "    print(\"Not a palindrome!\")"
   ]
  },
  {
   "cell_type": "code",
   "execution_count": null,
   "id": "7468ce01-e07a-493c-9f8f-ed649eeaf77d",
   "metadata": {},
   "outputs": [],
   "source": [
    "'''Q9. Write a code to print odd numbers from 1 to 100 using list comprehension.'''\n",
    "'''ans:- '''\n"
   ]
  }
 ],
 "metadata": {
  "kernelspec": {
   "display_name": "Python 3 (ipykernel)",
   "language": "python",
   "name": "python3"
  },
  "language_info": {
   "codemirror_mode": {
    "name": "ipython",
    "version": 3
   },
   "file_extension": ".py",
   "mimetype": "text/x-python",
   "name": "python",
   "nbconvert_exporter": "python",
   "pygments_lexer": "ipython3",
   "version": "3.10.8"
  }
 },
 "nbformat": 4,
 "nbformat_minor": 5
}

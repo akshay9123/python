{
 "cells": [
  {
   "cell_type": "code",
   "execution_count": 2,
   "id": "560a3227-8e2a-4f8e-a70c-de8ba346e38a",
   "metadata": {},
   "outputs": [
    {
     "data": {
      "text/plain": [
       "[1, 4, 9, 16, 25]"
      ]
     },
     "execution_count": 2,
     "metadata": {},
     "output_type": "execute_result"
    }
   ],
   "source": [
    "l = [1,2,3,4,5]\n",
    "l1=[]\n",
    "for i in l:\n",
    "    l1.append(i**2)\n",
    "l1"
   ]
  },
  {
   "cell_type": "code",
   "execution_count": 4,
   "id": "4cca35d8-e4be-41a8-871d-3ec401a6c91e",
   "metadata": {},
   "outputs": [
    {
     "data": {
      "text/plain": [
       "[1, 4, 9, 16, 2025, 25]"
      ]
     },
     "execution_count": 4,
     "metadata": {},
     "output_type": "execute_result"
    }
   ],
   "source": [
    "# 1st comprihesion\n",
    "l2=[1,2,3,4,45,5]\n",
    "[i**2 for i in l2]"
   ]
  },
  {
   "cell_type": "code",
   "execution_count": 6,
   "id": "4cc5f2f0-b64d-42b2-a133-a8e19d097599",
   "metadata": {},
   "outputs": [
    {
     "data": {
      "text/plain": [
       "[2, 6, 56, 68, 90]"
      ]
     },
     "execution_count": 6,
     "metadata": {},
     "output_type": "execute_result"
    }
   ],
   "source": [
    "# 2nd comprihension \n",
    "# to find out the even \n",
    "x=[2,3,45,6,7,223,43,56,68,90]\n",
    "[i for i in x if i %2==0]\n",
    "# first i is the return value"
   ]
  },
  {
   "cell_type": "code",
   "execution_count": 8,
   "id": "5766d936-294f-4786-8935-a2557a8f4edd",
   "metadata": {},
   "outputs": [
    {
     "data": {
      "text/plain": [
       "['AKSHAY', 'JHA', 'DATA', 'SCINECE', 'MASTER']"
      ]
     },
     "execution_count": 8,
     "metadata": {},
     "output_type": "execute_result"
    }
   ],
   "source": [
    "# if we need to change the list value in \n",
    "# capitl form then by comprehneion\n",
    "a=[\"akshay\",\"jha\",\"data\",\"scinece\",\"master\"]\n",
    "[i.upper()for i in a]"
   ]
  },
  {
   "cell_type": "code",
   "execution_count": 13,
   "id": "72e7c55c-7d9a-4b14-bbdb-5170b427561b",
   "metadata": {},
   "outputs": [
    {
     "data": {
      "text/plain": [
       "['AKSHAY', 'JHA', 'DATA', 'SCINECE', 'MASTER']"
      ]
     },
     "execution_count": 13,
     "metadata": {},
     "output_type": "execute_result"
    }
   ],
   "source": [
    "# by for loop\n",
    "a=[\"akshay\",\"jha\",\"data\",\"scinece\",\"master\"]\n",
    "lis=[]\n",
    "for j in a:\n",
    "    lis.append(j.upper())\n",
    "    \n",
    "lis"
   ]
  },
  {
   "cell_type": "code",
   "execution_count": 15,
   "id": "0ba81806-0a19-4192-a79e-44be3560921a",
   "metadata": {},
   "outputs": [
    {
     "data": {
      "text/plain": [
       "[4, 9, 16, 25, 36]"
      ]
     },
     "execution_count": 15,
     "metadata": {},
     "output_type": "execute_result"
    }
   ],
   "source": [
    "# comprehension for list\n",
    "h=[2,3,4,5,6]\n",
    "[i**2 for i in h]"
   ]
  },
  {
   "cell_type": "code",
   "execution_count": 19,
   "id": "f7fc1972-9430-41fd-be3c-02b67ac3c7de",
   "metadata": {},
   "outputs": [
    {
     "data": {
      "text/plain": [
       "{'key1': 1, 'key2': 4, 'key3': 9, 'key4': 16}"
      ]
     },
     "execution_count": 19,
     "metadata": {},
     "output_type": "execute_result"
    }
   ],
   "source": [
    "# comprihension for dict\n",
    "d={\"key1\":1, \"key2\":2,\"key3\":3,\"key4\":4}\n",
    "{k:v**2 for k, v in d.items()}"
   ]
  },
  {
   "cell_type": "code",
   "execution_count": 20,
   "id": "60273cdb-39a2-4d3f-9e4c-e11ee0cd7b41",
   "metadata": {},
   "outputs": [
    {
     "data": {
      "text/plain": [
       "dict_items([('key1', 1), ('key2', 2), ('key3', 3), ('key4', 4)])"
      ]
     },
     "execution_count": 20,
     "metadata": {},
     "output_type": "execute_result"
    }
   ],
   "source": [
    "d.items()"
   ]
  },
  {
   "cell_type": "code",
   "execution_count": null,
   "id": "026b5357-3e02-41c8-b08e-5aa7fd9ad53d",
   "metadata": {},
   "outputs": [],
   "source": []
  }
 ],
 "metadata": {
  "kernelspec": {
   "display_name": "Python 3 (ipykernel)",
   "language": "python",
   "name": "python3"
  },
  "language_info": {
   "codemirror_mode": {
    "name": "ipython",
    "version": 3
   },
   "file_extension": ".py",
   "mimetype": "text/x-python",
   "name": "python",
   "nbconvert_exporter": "python",
   "pygments_lexer": "ipython3",
   "version": "3.10.8"
  }
 },
 "nbformat": 4,
 "nbformat_minor": 5
}
